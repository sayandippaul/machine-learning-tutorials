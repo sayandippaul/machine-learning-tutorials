{
  "metadata": {
    "kernelspec": {
      "name": "python",
      "display_name": "Python (Pyodide)",
      "language": "python"
    },
    "language_info": {
      "codemirror_mode": {
        "name": "python",
        "version": 3
      },
      "file_extension": ".py",
      "mimetype": "text/x-python",
      "name": "python",
      "nbconvert_exporter": "python",
      "pygments_lexer": "ipython3",
      "version": "3.8"
    }
  },
  "nbformat_minor": 4,
  "nbformat": 4,
  "cells": [
    {
      "cell_type": "markdown",
      "source": "# numpy basic",
      "metadata": {}
    },
    {
      "cell_type": "code",
      "source": "    import numpy as np\nimport matplotlib.pyplot as plt",
      "metadata": {
        "trusted": true
      },
      "outputs": [],
      "execution_count": 192
    },
    {
      "cell_type": "code",
      "source": "np.__version__",
      "metadata": {
        "trusted": true
      },
      "outputs": [
        {
          "execution_count": 5,
          "output_type": "execute_result",
          "data": {
            "text/plain": "'1.26.1'"
          },
          "metadata": {}
        }
      ],
      "execution_count": 5
    },
    {
      "cell_type": "markdown",
      "source": "# creating an array",
      "metadata": {}
    },
    {
      "cell_type": "code",
      "source": "a1=np.array([1,2,3,4,5,6,7,8,9])",
      "metadata": {
        "trusted": true
      },
      "outputs": [],
      "execution_count": 13
    },
    {
      "cell_type": "code",
      "source": "print(a1)",
      "metadata": {
        "trusted": true
      },
      "outputs": [
        {
          "name": "stdout",
          "text": "[1 2 3 4 5 6 7 8 9]\n",
          "output_type": "stream"
        }
      ],
      "execution_count": 15
    },
    {
      "cell_type": "code",
      "source": "a1.ndim",
      "metadata": {
        "trusted": true
      },
      "outputs": [
        {
          "execution_count": 16,
          "output_type": "execute_result",
          "data": {
            "text/plain": "1"
          },
          "metadata": {}
        }
      ],
      "execution_count": 16
    },
    {
      "cell_type": "code",
      "source": "a2=np.array([[1,2,3,4],[3,4,5,4,5]])\na2",
      "metadata": {
        "trusted": true
      },
      "outputs": [
        {
          "ename": "<class 'ValueError'>",
          "evalue": "setting an array element with a sequence. The requested array has an inhomogeneous shape after 1 dimensions. The detected shape was (2,) + inhomogeneous part.",
          "traceback": [
            "\u001b[0;31m---------------------------------------------------------------------------\u001b[0m",
            "\u001b[0;31mValueError\u001b[0m                                Traceback (most recent call last)",
            "Cell \u001b[0;32mIn[21], line 1\u001b[0m\n\u001b[0;32m----> 1\u001b[0m a2\u001b[38;5;241m=\u001b[39m\u001b[43mnp\u001b[49m\u001b[38;5;241;43m.\u001b[39;49m\u001b[43marray\u001b[49m\u001b[43m(\u001b[49m\u001b[43m[\u001b[49m\u001b[43m[\u001b[49m\u001b[38;5;241;43m1\u001b[39;49m\u001b[43m,\u001b[49m\u001b[38;5;241;43m2\u001b[39;49m\u001b[43m,\u001b[49m\u001b[38;5;241;43m3\u001b[39;49m\u001b[43m,\u001b[49m\u001b[38;5;241;43m4\u001b[39;49m\u001b[43m]\u001b[49m\u001b[43m,\u001b[49m\u001b[43m[\u001b[49m\u001b[38;5;241;43m3\u001b[39;49m\u001b[43m,\u001b[49m\u001b[38;5;241;43m4\u001b[39;49m\u001b[43m,\u001b[49m\u001b[38;5;241;43m5\u001b[39;49m\u001b[43m,\u001b[49m\u001b[38;5;241;43m4\u001b[39;49m\u001b[43m,\u001b[49m\u001b[38;5;241;43m5\u001b[39;49m\u001b[43m]\u001b[49m\u001b[43m]\u001b[49m\u001b[43m)\u001b[49m\n\u001b[1;32m      2\u001b[0m a2\n",
            "\u001b[0;31mValueError\u001b[0m: setting an array element with a sequence. The requested array has an inhomogeneous shape after 1 dimensions. The detected shape was (2,) + inhomogeneous part."
          ],
          "output_type": "error"
        }
      ],
      "execution_count": 21
    },
    {
      "cell_type": "code",
      "source": "a2=np.array([[1,2,3,4],[3,4,5,5]])\na2",
      "metadata": {
        "trusted": true
      },
      "outputs": [
        {
          "execution_count": 22,
          "output_type": "execute_result",
          "data": {
            "text/plain": "array([[1, 2, 3, 4],\n       [3, 4, 5, 5]])"
          },
          "metadata": {}
        }
      ],
      "execution_count": 22
    },
    {
      "cell_type": "code",
      "source": "a2.ndim",
      "metadata": {
        "trusted": true
      },
      "outputs": [
        {
          "execution_count": 23,
          "output_type": "execute_result",
          "data": {
            "text/plain": "2"
          },
          "metadata": {}
        }
      ],
      "execution_count": 23
    },
    {
      "cell_type": "code",
      "source": "a1.size",
      "metadata": {
        "trusted": true
      },
      "outputs": [
        {
          "execution_count": 24,
          "output_type": "execute_result",
          "data": {
            "text/plain": "9"
          },
          "metadata": {}
        }
      ],
      "execution_count": 24
    },
    {
      "cell_type": "code",
      "source": "a2.size",
      "metadata": {
        "trusted": true
      },
      "outputs": [
        {
          "execution_count": 25,
          "output_type": "execute_result",
          "data": {
            "text/plain": "8"
          },
          "metadata": {}
        }
      ],
      "execution_count": 25
    },
    {
      "cell_type": "code",
      "source": "a1.shape",
      "metadata": {
        "trusted": true
      },
      "outputs": [
        {
          "execution_count": 26,
          "output_type": "execute_result",
          "data": {
            "text/plain": "(9,)"
          },
          "metadata": {}
        }
      ],
      "execution_count": 26
    },
    {
      "cell_type": "code",
      "source": "a2.shape\n#row coloum",
      "metadata": {
        "trusted": true
      },
      "outputs": [
        {
          "execution_count": 28,
          "output_type": "execute_result",
          "data": {
            "text/plain": "(2, 4)"
          },
          "metadata": {}
        }
      ],
      "execution_count": 28
    },
    {
      "cell_type": "code",
      "source": "a2.dtype",
      "metadata": {
        "trusted": true
      },
      "outputs": [
        {
          "execution_count": 29,
          "output_type": "execute_result",
          "data": {
            "text/plain": "dtype('int32')"
          },
          "metadata": {}
        }
      ],
      "execution_count": 29
    },
    {
      "cell_type": "code",
      "source": "a3=np.array([[\"fd\",\"dfs\"],[\"a\",\"23\"]])\na3.dtype",
      "metadata": {
        "trusted": true
      },
      "outputs": [
        {
          "execution_count": 30,
          "output_type": "execute_result",
          "data": {
            "text/plain": "dtype('<U3')"
          },
          "metadata": {}
        }
      ],
      "execution_count": 30
    },
    {
      "cell_type": "code",
      "source": "allone=np.array([[1,1,1],[1,1,1,],[1,1,1]])",
      "metadata": {
        "trusted": true
      },
      "outputs": [],
      "execution_count": 31
    },
    {
      "cell_type": "code",
      "source": "allone\nallone.shape",
      "metadata": {
        "trusted": true
      },
      "outputs": [
        {
          "execution_count": 39,
          "output_type": "execute_result",
          "data": {
            "text/plain": "(3, 3)"
          },
          "metadata": {}
        }
      ],
      "execution_count": 39
    },
    {
      "cell_type": "code",
      "source": "np.ones(4)",
      "metadata": {
        "trusted": true
      },
      "outputs": [
        {
          "execution_count": 33,
          "output_type": "execute_result",
          "data": {
            "text/plain": "array([1., 1., 1., 1.])"
          },
          "metadata": {}
        }
      ],
      "execution_count": 33
    },
    {
      "cell_type": "code",
      "source": "np.ones([3,3])",
      "metadata": {
        "trusted": true
      },
      "outputs": [
        {
          "execution_count": 36,
          "output_type": "execute_result",
          "data": {
            "text/plain": "array([[1., 1., 1.],\n       [1., 1., 1.],\n       [1., 1., 1.]])"
          },
          "metadata": {}
        }
      ],
      "execution_count": 36
    },
    {
      "cell_type": "code",
      "source": "np.zeros([2,3],dtype=\"bool\")",
      "metadata": {
        "trusted": true
      },
      "outputs": [
        {
          "execution_count": 44,
          "output_type": "execute_result",
          "data": {
            "text/plain": "array([[False, False, False],\n       [False, False, False]])"
          },
          "metadata": {}
        }
      ],
      "execution_count": 44
    },
    {
      "cell_type": "code",
      "source": "np.zeros([2,3],dtype=\"int\")\n",
      "metadata": {
        "trusted": true
      },
      "outputs": [
        {
          "execution_count": 45,
          "output_type": "execute_result",
          "data": {
            "text/plain": "array([[0, 0, 0],\n       [0, 0, 0]])"
          },
          "metadata": {}
        }
      ],
      "execution_count": 45
    },
    {
      "cell_type": "code",
      "source": "empty_string=\"\"",
      "metadata": {
        "trusted": true
      },
      "outputs": [],
      "execution_count": 47
    },
    {
      "cell_type": "code",
      "source": "print(empty_string)",
      "metadata": {
        "trusted": true
      },
      "outputs": [
        {
          "name": "stdout",
          "text": "",
          "output_type": "stream"
        },
        {
          "name": "stdout",
          "text": "\n",
          "output_type": "stream"
        }
      ],
      "execution_count": 48
    },
    {
      "cell_type": "code",
      "source": "print(bool(empty_string))\n",
      "metadata": {
        "trusted": true
      },
      "outputs": [
        {
          "name": "stdout",
          "text": "False\n",
          "output_type": "stream"
        }
      ],
      "execution_count": 49
    },
    {
      "cell_type": "code",
      "source": "nonempty_string=\"dasafgh\"\nprint(nonempty_string)\nprint(bool(nonempty_string))\n",
      "metadata": {
        "trusted": true
      },
      "outputs": [
        {
          "name": "stdout",
          "text": "dasafgh\nTrue\n",
          "output_type": "stream"
        }
      ],
      "execution_count": 50
    },
    {
      "cell_type": "code",
      "source": "np.empty(3)",
      "metadata": {
        "trusted": true
      },
      "outputs": [
        {
          "execution_count": 51,
          "output_type": "execute_result",
          "data": {
            "text/plain": "array([1.54773621e-307, 0.00000000e+000, 1.57380517e-305])"
          },
          "metadata": {}
        }
      ],
      "execution_count": 51
    },
    {
      "cell_type": "markdown",
      "source": "    #lecture 3                                                                                    ",
      "metadata": {}
    },
    {
      "cell_type": "markdown",
      "source": "# (numpy functions)",
      "metadata": {}
    },
    {
      "cell_type": "code",
      "source": "a=np.arange(1,23)",
      "metadata": {
        "trusted": true
      },
      "outputs": [],
      "execution_count": 56
    },
    {
      "cell_type": "code",
      "source": "a",
      "metadata": {
        "trusted": true
      },
      "outputs": [
        {
          "execution_count": 57,
          "output_type": "execute_result",
          "data": {
            "text/plain": "array([ 1,  2,  3,  4,  5,  6,  7,  8,  9, 10, 11, 12, 13, 14, 15, 16, 17,\n       18, 19, 20, 21, 22])"
          },
          "metadata": {}
        }
      ],
      "execution_count": 57
    },
    {
      "cell_type": "code",
      "source": "a=np.arange(2,23,4)\n",
      "metadata": {
        "trusted": true
      },
      "outputs": [],
      "execution_count": 58
    },
    {
      "cell_type": "code",
      "source": "a",
      "metadata": {
        "trusted": true
      },
      "outputs": [
        {
          "execution_count": 59,
          "output_type": "execute_result",
          "data": {
            "text/plain": "array([ 2,  6, 10, 14, 18, 22])"
          },
          "metadata": {}
        }
      ],
      "execution_count": 59
    },
    {
      "cell_type": "code",
      "source": "np.linspace(1,7,3)",
      "metadata": {
        "trusted": true
      },
      "outputs": [
        {
          "execution_count": 60,
          "output_type": "execute_result",
          "data": {
            "text/plain": "array([1., 4., 7.])"
          },
          "metadata": {}
        }
      ],
      "execution_count": 60
    },
    {
      "cell_type": "code",
      "source": "a.reshape(2,3)",
      "metadata": {
        "trusted": true
      },
      "outputs": [
        {
          "execution_count": 61,
          "output_type": "execute_result",
          "data": {
            "text/plain": "array([[ 2,  6, 10],\n       [14, 18, 22]])"
          },
          "metadata": {}
        }
      ],
      "execution_count": 61
    },
    {
      "cell_type": "code",
      "source": "a.reshape(3,1,2)\n",
      "metadata": {
        "trusted": true
      },
      "outputs": [
        {
          "execution_count": 64,
          "output_type": "execute_result",
          "data": {
            "text/plain": "array([[[ 2,  6]],\n\n       [[10, 14]],\n\n       [[18, 22]]])"
          },
          "metadata": {}
        }
      ],
      "execution_count": 64
    },
    {
      "cell_type": "code",
      "source": "#ravel and flatten function is used to convert multidimensional array to oned array",
      "metadata": {
        "trusted": true
      },
      "outputs": [],
      "execution_count": 65
    },
    {
      "cell_type": "code",
      "source": "a.ravel()",
      "metadata": {
        "trusted": true
      },
      "outputs": [
        {
          "execution_count": 73,
          "output_type": "execute_result",
          "data": {
            "text/plain": "array([ 2,  6, 10, 14, 18, 22])"
          },
          "metadata": {}
        }
      ],
      "execution_count": 73
    },
    {
      "cell_type": "code",
      "source": "a.reshape(3,1,2)\n\na.flatten()\n",
      "metadata": {
        "trusted": true
      },
      "outputs": [
        {
          "execution_count": 75,
          "output_type": "execute_result",
          "data": {
            "text/plain": "array([ 2,  6, 10, 14, 18, 22])"
          },
          "metadata": {}
        }
      ],
      "execution_count": 75
    },
    {
      "cell_type": "code",
      "source": "a=a.reshape(3,2)\na",
      "metadata": {
        "trusted": true
      },
      "outputs": [
        {
          "execution_count": 81,
          "output_type": "execute_result",
          "data": {
            "text/plain": "array([[ 2,  6],\n       [10, 14],\n       [18, 22]])"
          },
          "metadata": {}
        }
      ],
      "execution_count": 81
    },
    {
      "cell_type": "code",
      "source": "a=a.transpose()\na",
      "metadata": {
        "trusted": true
      },
      "outputs": [
        {
          "execution_count": 85,
          "output_type": "execute_result",
          "data": {
            "text/plain": "array([[ 2,  6],\n       [10, 14],\n       [18, 22]])"
          },
          "metadata": {}
        }
      ],
      "execution_count": 85
    },
    {
      "cell_type": "code",
      "source": "a.T",
      "metadata": {
        "trusted": true
      },
      "outputs": [
        {
          "execution_count": 84,
          "output_type": "execute_result",
          "data": {
            "text/plain": "array([[ 2,  6],\n       [10, 14],\n       [18, 22]])"
          },
          "metadata": {}
        }
      ],
      "execution_count": 84
    },
    {
      "cell_type": "code",
      "source": "p=np.arange(10).reshape(2,5)\np",
      "metadata": {
        "trusted": true
      },
      "outputs": [
        {
          "execution_count": 114,
          "output_type": "execute_result",
          "data": {
            "text/plain": "array([[0, 1, 2, 3, 4],\n       [5, 6, 7, 8, 9]])"
          },
          "metadata": {}
        }
      ],
      "execution_count": 114
    },
    {
      "cell_type": "code",
      "source": "q=np.arange(10,20).reshape(2,5)\nq",
      "metadata": {
        "trusted": true
      },
      "outputs": [
        {
          "execution_count": 97,
          "output_type": "execute_result",
          "data": {
            "text/plain": "array([[10, 11, 12, 13, 14],\n       [15, 16, 17, 18, 19]])"
          },
          "metadata": {}
        }
      ],
      "execution_count": 97
    },
    {
      "cell_type": "markdown",
      "source": "# mathematics",
      "metadata": {}
    },
    {
      "cell_type": "code",
      "source": "np.add(p,q)",
      "metadata": {
        "trusted": true
      },
      "outputs": [
        {
          "execution_count": 99,
          "output_type": "execute_result",
          "data": {
            "text/plain": "array([[10, 12, 14, 16, 18],\n       [20, 22, 24, 26, 28]])"
          },
          "metadata": {}
        }
      ],
      "execution_count": 99
    },
    {
      "cell_type": "code",
      "source": "np.subtract(p,q)",
      "metadata": {
        "trusted": true
      },
      "outputs": [
        {
          "execution_count": 100,
          "output_type": "execute_result",
          "data": {
            "text/plain": "array([[-10, -10, -10, -10, -10],\n       [-10, -10, -10, -10, -10]])"
          },
          "metadata": {}
        }
      ],
      "execution_count": 100
    },
    {
      "cell_type": "code",
      "source": "np.multiply(p,q)",
      "metadata": {
        "trusted": true
      },
      "outputs": [
        {
          "execution_count": 101,
          "output_type": "execute_result",
          "data": {
            "text/plain": "array([[  0,  11,  24,  39,  56],\n       [ 75,  96, 119, 144, 171]])"
          },
          "metadata": {}
        }
      ],
      "execution_count": 101
    },
    {
      "cell_type": "code",
      "source": "np.divide(p,q)",
      "metadata": {
        "trusted": true
      },
      "outputs": [
        {
          "execution_count": 102,
          "output_type": "execute_result",
          "data": {
            "text/plain": "array([[0.        , 0.09090909, 0.16666667, 0.23076923, 0.28571429],\n       [0.33333333, 0.375     , 0.41176471, 0.44444444, 0.47368421]])"
          },
          "metadata": {}
        }
      ],
      "execution_count": 102
    },
    {
      "cell_type": "code",
      "source": "p+q",
      "metadata": {
        "trusted": true
      },
      "outputs": [
        {
          "execution_count": 104,
          "output_type": "execute_result",
          "data": {
            "text/plain": "array([[10, 12, 14, 16, 18],\n       [20, 22, 24, 26, 28]])"
          },
          "metadata": {}
        }
      ],
      "execution_count": 104
    },
    {
      "cell_type": "code",
      "source": "p-q",
      "metadata": {
        "trusted": true
      },
      "outputs": [
        {
          "execution_count": 105,
          "output_type": "execute_result",
          "data": {
            "text/plain": "array([[-10, -10, -10, -10, -10],\n       [-10, -10, -10, -10, -10]])"
          },
          "metadata": {}
        }
      ],
      "execution_count": 105
    },
    {
      "cell_type": "code",
      "source": "p*q",
      "metadata": {
        "trusted": true
      },
      "outputs": [
        {
          "execution_count": 106,
          "output_type": "execute_result",
          "data": {
            "text/plain": "array([[  0,  11,  24,  39,  56],\n       [ 75,  96, 119, 144, 171]])"
          },
          "metadata": {}
        }
      ],
      "execution_count": 106
    },
    {
      "cell_type": "code",
      "source": "p/q",
      "metadata": {
        "trusted": true
      },
      "outputs": [
        {
          "execution_count": 107,
          "output_type": "execute_result",
          "data": {
            "text/plain": "array([[0.        , 0.09090909, 0.16666667, 0.23076923, 0.28571429],\n       [0.33333333, 0.375     , 0.41176471, 0.44444444, 0.47368421]])"
          },
          "metadata": {}
        }
      ],
      "execution_count": 107
    },
    {
      "cell_type": "code",
      "source": "p==q",
      "metadata": {
        "trusted": true
      },
      "outputs": [
        {
          "execution_count": 110,
          "output_type": "execute_result",
          "data": {
            "text/plain": "array([[ True,  True,  True,  True,  True],\n       [ True,  True,  True,  True,  True]])"
          },
          "metadata": {}
        }
      ],
      "execution_count": 110
    },
    {
      "cell_type": "code",
      "source": "p",
      "metadata": {
        "trusted": true
      },
      "outputs": [
        {
          "execution_count": 115,
          "output_type": "execute_result",
          "data": {
            "text/plain": "array([[0, 1, 2, 3, 4],\n       [5, 6, 7, 8, 9]])"
          },
          "metadata": {}
        }
      ],
      "execution_count": 115
    },
    {
      "cell_type": "code",
      "source": "q=np.arange(10,20).reshape(2,5)\nq",
      "metadata": {
        "trusted": true
      },
      "outputs": [
        {
          "execution_count": 113,
          "output_type": "execute_result",
          "data": {
            "text/plain": "array([[10, 11, 12, 13, 14],\n       [15, 16, 17, 18, 19]])"
          },
          "metadata": {}
        }
      ],
      "execution_count": 113
    },
    {
      "cell_type": "code",
      "source": "p@q.T",
      "metadata": {
        "trusted": true
      },
      "outputs": [
        {
          "execution_count": 117,
          "output_type": "execute_result",
          "data": {
            "text/plain": "array([[130, 180],\n       [430, 605]])"
          },
          "metadata": {}
        }
      ],
      "execution_count": 117
    },
    {
      "cell_type": "code",
      "source": "p.max()",
      "metadata": {
        "trusted": true
      },
      "outputs": [
        {
          "execution_count": 118,
          "output_type": "execute_result",
          "data": {
            "text/plain": "9"
          },
          "metadata": {}
        }
      ],
      "execution_count": 118
    },
    {
      "cell_type": "code",
      "source": "q.min()",
      "metadata": {
        "trusted": true
      },
      "outputs": [
        {
          "execution_count": 119,
          "output_type": "execute_result",
          "data": {
            "text/plain": "10"
          },
          "metadata": {}
        }
      ],
      "execution_count": 119
    },
    {
      "cell_type": "code",
      "source": "p.argmax()",
      "metadata": {
        "trusted": true
      },
      "outputs": [
        {
          "execution_count": 120,
          "output_type": "execute_result",
          "data": {
            "text/plain": "9"
          },
          "metadata": {}
        }
      ],
      "execution_count": 120
    },
    {
      "cell_type": "code",
      "source": "q.argmin()",
      "metadata": {
        "trusted": true
      },
      "outputs": [
        {
          "execution_count": 121,
          "output_type": "execute_result",
          "data": {
            "text/plain": "0"
          },
          "metadata": {}
        }
      ],
      "execution_count": 121
    },
    {
      "cell_type": "code",
      "source": "p.max(axis=0)",
      "metadata": {
        "trusted": true
      },
      "outputs": [
        {
          "execution_count": 122,
          "output_type": "execute_result",
          "data": {
            "text/plain": "array([5, 6, 7, 8, 9])"
          },
          "metadata": {}
        }
      ],
      "execution_count": 122
    },
    {
      "cell_type": "code",
      "source": "p.max(axis=1)\n",
      "metadata": {
        "trusted": true
      },
      "outputs": [
        {
          "execution_count": 123,
          "output_type": "execute_result",
          "data": {
            "text/plain": "array([4, 9])"
          },
          "metadata": {}
        }
      ],
      "execution_count": 123
    },
    {
      "cell_type": "code",
      "source": "p",
      "metadata": {
        "trusted": true
      },
      "outputs": [
        {
          "execution_count": 124,
          "output_type": "execute_result",
          "data": {
            "text/plain": "array([[0, 1, 2, 3, 4],\n       [5, 6, 7, 8, 9]])"
          },
          "metadata": {}
        }
      ],
      "execution_count": 124
    },
    {
      "cell_type": "code",
      "source": "np.sum(a)",
      "metadata": {
        "trusted": true
      },
      "outputs": [
        {
          "execution_count": 126,
          "output_type": "execute_result",
          "data": {
            "text/plain": "72"
          },
          "metadata": {}
        }
      ],
      "execution_count": 126
    },
    {
      "cell_type": "code",
      "source": "a",
      "metadata": {
        "trusted": true
      },
      "outputs": [
        {
          "execution_count": 127,
          "output_type": "execute_result",
          "data": {
            "text/plain": "array([[ 2,  6],\n       [10, 14],\n       [18, 22]])"
          },
          "metadata": {}
        }
      ],
      "execution_count": 127
    },
    {
      "cell_type": "code",
      "source": "np.sum(a,axis=0)\n",
      "metadata": {
        "trusted": true
      },
      "outputs": [
        {
          "execution_count": 128,
          "output_type": "execute_result",
          "data": {
            "text/plain": "array([30, 42])"
          },
          "metadata": {}
        }
      ],
      "execution_count": 128
    },
    {
      "cell_type": "code",
      "source": "np.sum(a,axis=1)\n",
      "metadata": {
        "trusted": true
      },
      "outputs": [
        {
          "execution_count": 129,
          "output_type": "execute_result",
          "data": {
            "text/plain": "array([ 8, 24, 40])"
          },
          "metadata": {}
        }
      ],
      "execution_count": 129
    },
    {
      "cell_type": "code",
      "source": "np.mean(a)",
      "metadata": {
        "trusted": true
      },
      "outputs": [
        {
          "execution_count": 130,
          "output_type": "execute_result",
          "data": {
            "text/plain": "12.0"
          },
          "metadata": {}
        }
      ],
      "execution_count": 130
    },
    {
      "cell_type": "code",
      "source": "np.sqrt(a)",
      "metadata": {
        "trusted": true
      },
      "outputs": [
        {
          "execution_count": 131,
          "output_type": "execute_result",
          "data": {
            "text/plain": "array([[1.41421356, 2.44948974],\n       [3.16227766, 3.74165739],\n       [4.24264069, 4.69041576]])"
          },
          "metadata": {}
        }
      ],
      "execution_count": 131
    },
    {
      "cell_type": "code",
      "source": "np.std(a)",
      "metadata": {
        "trusted": true
      },
      "outputs": [
        {
          "execution_count": 132,
          "output_type": "execute_result",
          "data": {
            "text/plain": "6.831300510639732"
          },
          "metadata": {}
        }
      ],
      "execution_count": 132
    },
    {
      "cell_type": "code",
      "source": "np.exp(a)",
      "metadata": {
        "trusted": true
      },
      "outputs": [
        {
          "execution_count": 133,
          "output_type": "execute_result",
          "data": {
            "text/plain": "array([[7.38905610e+00, 4.03428793e+02],\n       [2.20264658e+04, 1.20260428e+06],\n       [6.56599691e+07, 3.58491285e+09]])"
          },
          "metadata": {}
        }
      ],
      "execution_count": 133
    },
    {
      "cell_type": "code",
      "source": "np.log(a)",
      "metadata": {
        "trusted": true
      },
      "outputs": [
        {
          "execution_count": 134,
          "output_type": "execute_result",
          "data": {
            "text/plain": "array([[0.69314718, 1.79175947],\n       [2.30258509, 2.63905733],\n       [2.89037176, 3.09104245]])"
          },
          "metadata": {}
        }
      ],
      "execution_count": 134
    },
    {
      "cell_type": "code",
      "source": "np.log10(a)",
      "metadata": {
        "trusted": true
      },
      "outputs": [
        {
          "execution_count": 135,
          "output_type": "execute_result",
          "data": {
            "text/plain": "array([[0.30103   , 0.77815125],\n       [1.        , 1.14612804],\n       [1.25527251, 1.34242268]])"
          },
          "metadata": {}
        }
      ],
      "execution_count": 135
    },
    {
      "cell_type": "markdown",
      "source": "# Numpy array slicing",
      "metadata": {}
    },
    {
      "cell_type": "code",
      "source": "a=np.arange(1,101).reshape(10,10)",
      "metadata": {
        "trusted": true
      },
      "outputs": [],
      "execution_count": 139
    },
    {
      "cell_type": "code",
      "source": "a",
      "metadata": {
        "trusted": true
      },
      "outputs": [
        {
          "execution_count": 140,
          "output_type": "execute_result",
          "data": {
            "text/plain": "array([[  1,   2,   3,   4,   5,   6,   7,   8,   9,  10],\n       [ 11,  12,  13,  14,  15,  16,  17,  18,  19,  20],\n       [ 21,  22,  23,  24,  25,  26,  27,  28,  29,  30],\n       [ 31,  32,  33,  34,  35,  36,  37,  38,  39,  40],\n       [ 41,  42,  43,  44,  45,  46,  47,  48,  49,  50],\n       [ 51,  52,  53,  54,  55,  56,  57,  58,  59,  60],\n       [ 61,  62,  63,  64,  65,  66,  67,  68,  69,  70],\n       [ 71,  72,  73,  74,  75,  76,  77,  78,  79,  80],\n       [ 81,  82,  83,  84,  85,  86,  87,  88,  89,  90],\n       [ 91,  92,  93,  94,  95,  96,  97,  98,  99, 100]])"
          },
          "metadata": {}
        }
      ],
      "execution_count": 140
    },
    {
      "cell_type": "code",
      "source": "a[0][0]",
      "metadata": {
        "trusted": true
      },
      "outputs": [
        {
          "execution_count": 142,
          "output_type": "execute_result",
          "data": {
            "text/plain": "1"
          },
          "metadata": {}
        }
      ],
      "execution_count": 142
    },
    {
      "cell_type": "code",
      "source": "a[1][2]\n",
      "metadata": {
        "trusted": true
      },
      "outputs": [
        {
          "execution_count": 143,
          "output_type": "execute_result",
          "data": {
            "text/plain": "13"
          },
          "metadata": {}
        }
      ],
      "execution_count": 143
    },
    {
      "cell_type": "code",
      "source": "a[0]",
      "metadata": {
        "trusted": true
      },
      "outputs": [
        {
          "execution_count": 144,
          "output_type": "execute_result",
          "data": {
            "text/plain": "array([ 1,  2,  3,  4,  5,  6,  7,  8,  9, 10])"
          },
          "metadata": {}
        }
      ],
      "execution_count": 144
    },
    {
      "cell_type": "code",
      "source": "a[:3]",
      "metadata": {
        "trusted": true
      },
      "outputs": [
        {
          "execution_count": 147,
          "output_type": "execute_result",
          "data": {
            "text/plain": "array([[ 1,  2,  3,  4,  5,  6,  7,  8,  9, 10],\n       [11, 12, 13, 14, 15, 16, 17, 18, 19, 20],\n       [21, 22, 23, 24, 25, 26, 27, 28, 29, 30]])"
          },
          "metadata": {}
        }
      ],
      "execution_count": 147
    },
    {
      "cell_type": "code",
      "source": "a[3:]",
      "metadata": {
        "trusted": true
      },
      "outputs": [
        {
          "execution_count": 148,
          "output_type": "execute_result",
          "data": {
            "text/plain": "array([[ 31,  32,  33,  34,  35,  36,  37,  38,  39,  40],\n       [ 41,  42,  43,  44,  45,  46,  47,  48,  49,  50],\n       [ 51,  52,  53,  54,  55,  56,  57,  58,  59,  60],\n       [ 61,  62,  63,  64,  65,  66,  67,  68,  69,  70],\n       [ 71,  72,  73,  74,  75,  76,  77,  78,  79,  80],\n       [ 81,  82,  83,  84,  85,  86,  87,  88,  89,  90],\n       [ 91,  92,  93,  94,  95,  96,  97,  98,  99, 100]])"
          },
          "metadata": {}
        }
      ],
      "execution_count": 148
    },
    {
      "cell_type": "code",
      "source": "a[:,3:4]\n",
      "metadata": {
        "trusted": true
      },
      "outputs": [
        {
          "execution_count": 149,
          "output_type": "execute_result",
          "data": {
            "text/plain": "array([[ 4],\n       [14],\n       [24],\n       [34],\n       [44],\n       [54],\n       [64],\n       [74],\n       [84],\n       [94]])"
          },
          "metadata": {}
        }
      ],
      "execution_count": 149
    },
    {
      "cell_type": "code",
      "source": "a[1:,3:4]\n",
      "metadata": {
        "trusted": true
      },
      "outputs": [
        {
          "execution_count": 150,
          "output_type": "execute_result",
          "data": {
            "text/plain": "array([[14],\n       [24],\n       [34],\n       [44],\n       [54],\n       [64],\n       [74],\n       [84],\n       [94]])"
          },
          "metadata": {}
        }
      ],
      "execution_count": 150
    },
    {
      "cell_type": "code",
      "source": "a[1:3,1:3]",
      "metadata": {
        "trusted": true
      },
      "outputs": [
        {
          "execution_count": 151,
          "output_type": "execute_result",
          "data": {
            "text/plain": "array([[12, 13],\n       [22, 23]])"
          },
          "metadata": {}
        }
      ],
      "execution_count": 151
    },
    {
      "cell_type": "code",
      "source": "a[:]",
      "metadata": {
        "trusted": true
      },
      "outputs": [
        {
          "execution_count": 152,
          "output_type": "execute_result",
          "data": {
            "text/plain": "array([[  1,   2,   3,   4,   5,   6,   7,   8,   9,  10],\n       [ 11,  12,  13,  14,  15,  16,  17,  18,  19,  20],\n       [ 21,  22,  23,  24,  25,  26,  27,  28,  29,  30],\n       [ 31,  32,  33,  34,  35,  36,  37,  38,  39,  40],\n       [ 41,  42,  43,  44,  45,  46,  47,  48,  49,  50],\n       [ 51,  52,  53,  54,  55,  56,  57,  58,  59,  60],\n       [ 61,  62,  63,  64,  65,  66,  67,  68,  69,  70],\n       [ 71,  72,  73,  74,  75,  76,  77,  78,  79,  80],\n       [ 81,  82,  83,  84,  85,  86,  87,  88,  89,  90],\n       [ 91,  92,  93,  94,  95,  96,  97,  98,  99, 100]])"
          },
          "metadata": {}
        }
      ],
      "execution_count": 152
    },
    {
      "cell_type": "code",
      "source": "a[::]",
      "metadata": {
        "trusted": true
      },
      "outputs": [
        {
          "execution_count": 153,
          "output_type": "execute_result",
          "data": {
            "text/plain": "array([[  1,   2,   3,   4,   5,   6,   7,   8,   9,  10],\n       [ 11,  12,  13,  14,  15,  16,  17,  18,  19,  20],\n       [ 21,  22,  23,  24,  25,  26,  27,  28,  29,  30],\n       [ 31,  32,  33,  34,  35,  36,  37,  38,  39,  40],\n       [ 41,  42,  43,  44,  45,  46,  47,  48,  49,  50],\n       [ 51,  52,  53,  54,  55,  56,  57,  58,  59,  60],\n       [ 61,  62,  63,  64,  65,  66,  67,  68,  69,  70],\n       [ 71,  72,  73,  74,  75,  76,  77,  78,  79,  80],\n       [ 81,  82,  83,  84,  85,  86,  87,  88,  89,  90],\n       [ 91,  92,  93,  94,  95,  96,  97,  98,  99, 100]])"
          },
          "metadata": {}
        }
      ],
      "execution_count": 153
    },
    {
      "cell_type": "code",
      "source": "a.itemsize",
      "metadata": {
        "trusted": true
      },
      "outputs": [
        {
          "execution_count": 154,
          "output_type": "execute_result",
          "data": {
            "text/plain": "4"
          },
          "metadata": {}
        }
      ],
      "execution_count": 154
    },
    {
      "cell_type": "code",
      "source": "a.size",
      "metadata": {
        "trusted": true
      },
      "outputs": [
        {
          "execution_count": 155,
          "output_type": "execute_result",
          "data": {
            "text/plain": "100"
          },
          "metadata": {}
        }
      ],
      "execution_count": 155
    },
    {
      "cell_type": "markdown",
      "source": "# array concatenation",
      "metadata": {}
    },
    {
      "cell_type": "code",
      "source": "list1=[1,2,3,4]\nlist2=[1,2,3,4]\nlist1+list2",
      "metadata": {
        "trusted": true
      },
      "outputs": [
        {
          "execution_count": 156,
          "output_type": "execute_result",
          "data": {
            "text/plain": "[1, 2, 3, 4, 1, 2, 3, 4]"
          },
          "metadata": {}
        }
      ],
      "execution_count": 156
    },
    {
      "cell_type": "code",
      "source": "b=np.arange(1,101).reshape(10,10)\nb\n# np.concatenate(a,b)",
      "metadata": {
        "trusted": true
      },
      "outputs": [
        {
          "execution_count": 159,
          "output_type": "execute_result",
          "data": {
            "text/plain": "array([[  1,   2,   3,   4,   5,   6,   7,   8,   9,  10],\n       [ 11,  12,  13,  14,  15,  16,  17,  18,  19,  20],\n       [ 21,  22,  23,  24,  25,  26,  27,  28,  29,  30],\n       [ 31,  32,  33,  34,  35,  36,  37,  38,  39,  40],\n       [ 41,  42,  43,  44,  45,  46,  47,  48,  49,  50],\n       [ 51,  52,  53,  54,  55,  56,  57,  58,  59,  60],\n       [ 61,  62,  63,  64,  65,  66,  67,  68,  69,  70],\n       [ 71,  72,  73,  74,  75,  76,  77,  78,  79,  80],\n       [ 81,  82,  83,  84,  85,  86,  87,  88,  89,  90],\n       [ 91,  92,  93,  94,  95,  96,  97,  98,  99, 100]])"
          },
          "metadata": {}
        }
      ],
      "execution_count": 159
    },
    {
      "cell_type": "code",
      "source": "np.concatenate((a,b))",
      "metadata": {
        "trusted": true
      },
      "outputs": [
        {
          "execution_count": 161,
          "output_type": "execute_result",
          "data": {
            "text/plain": "array([[  1,   2,   3,   4,   5,   6,   7,   8,   9,  10],\n       [ 11,  12,  13,  14,  15,  16,  17,  18,  19,  20],\n       [ 21,  22,  23,  24,  25,  26,  27,  28,  29,  30],\n       [ 31,  32,  33,  34,  35,  36,  37,  38,  39,  40],\n       [ 41,  42,  43,  44,  45,  46,  47,  48,  49,  50],\n       [ 51,  52,  53,  54,  55,  56,  57,  58,  59,  60],\n       [ 61,  62,  63,  64,  65,  66,  67,  68,  69,  70],\n       [ 71,  72,  73,  74,  75,  76,  77,  78,  79,  80],\n       [ 81,  82,  83,  84,  85,  86,  87,  88,  89,  90],\n       [ 91,  92,  93,  94,  95,  96,  97,  98,  99, 100],\n       [  1,   2,   3,   4,   5,   6,   7,   8,   9,  10],\n       [ 11,  12,  13,  14,  15,  16,  17,  18,  19,  20],\n       [ 21,  22,  23,  24,  25,  26,  27,  28,  29,  30],\n       [ 31,  32,  33,  34,  35,  36,  37,  38,  39,  40],\n       [ 41,  42,  43,  44,  45,  46,  47,  48,  49,  50],\n       [ 51,  52,  53,  54,  55,  56,  57,  58,  59,  60],\n       [ 61,  62,  63,  64,  65,  66,  67,  68,  69,  70],\n       [ 71,  72,  73,  74,  75,  76,  77,  78,  79,  80],\n       [ 81,  82,  83,  84,  85,  86,  87,  88,  89,  90],\n       [ 91,  92,  93,  94,  95,  96,  97,  98,  99, 100]])"
          },
          "metadata": {}
        }
      ],
      "execution_count": 161
    },
    {
      "cell_type": "code",
      "source": "np.concatenate((a,b),axis=1)\n",
      "metadata": {
        "trusted": true
      },
      "outputs": [
        {
          "execution_count": 162,
          "output_type": "execute_result",
          "data": {
            "text/plain": "array([[  1,   2,   3,   4,   5,   6,   7,   8,   9,  10,   1,   2,   3,\n          4,   5,   6,   7,   8,   9,  10],\n       [ 11,  12,  13,  14,  15,  16,  17,  18,  19,  20,  11,  12,  13,\n         14,  15,  16,  17,  18,  19,  20],\n       [ 21,  22,  23,  24,  25,  26,  27,  28,  29,  30,  21,  22,  23,\n         24,  25,  26,  27,  28,  29,  30],\n       [ 31,  32,  33,  34,  35,  36,  37,  38,  39,  40,  31,  32,  33,\n         34,  35,  36,  37,  38,  39,  40],\n       [ 41,  42,  43,  44,  45,  46,  47,  48,  49,  50,  41,  42,  43,\n         44,  45,  46,  47,  48,  49,  50],\n       [ 51,  52,  53,  54,  55,  56,  57,  58,  59,  60,  51,  52,  53,\n         54,  55,  56,  57,  58,  59,  60],\n       [ 61,  62,  63,  64,  65,  66,  67,  68,  69,  70,  61,  62,  63,\n         64,  65,  66,  67,  68,  69,  70],\n       [ 71,  72,  73,  74,  75,  76,  77,  78,  79,  80,  71,  72,  73,\n         74,  75,  76,  77,  78,  79,  80],\n       [ 81,  82,  83,  84,  85,  86,  87,  88,  89,  90,  81,  82,  83,\n         84,  85,  86,  87,  88,  89,  90],\n       [ 91,  92,  93,  94,  95,  96,  97,  98,  99, 100,  91,  92,  93,\n         94,  95,  96,  97,  98,  99, 100]])"
          },
          "metadata": {}
        }
      ],
      "execution_count": 162
    },
    {
      "cell_type": "code",
      "source": "# forvertiical adding\nnp.vstack((a,b))",
      "metadata": {
        "trusted": true
      },
      "outputs": [
        {
          "execution_count": 164,
          "output_type": "execute_result",
          "data": {
            "text/plain": "array([[  1,   2,   3,   4,   5,   6,   7,   8,   9,  10],\n       [ 11,  12,  13,  14,  15,  16,  17,  18,  19,  20],\n       [ 21,  22,  23,  24,  25,  26,  27,  28,  29,  30],\n       [ 31,  32,  33,  34,  35,  36,  37,  38,  39,  40],\n       [ 41,  42,  43,  44,  45,  46,  47,  48,  49,  50],\n       [ 51,  52,  53,  54,  55,  56,  57,  58,  59,  60],\n       [ 61,  62,  63,  64,  65,  66,  67,  68,  69,  70],\n       [ 71,  72,  73,  74,  75,  76,  77,  78,  79,  80],\n       [ 81,  82,  83,  84,  85,  86,  87,  88,  89,  90],\n       [ 91,  92,  93,  94,  95,  96,  97,  98,  99, 100],\n       [  1,   2,   3,   4,   5,   6,   7,   8,   9,  10],\n       [ 11,  12,  13,  14,  15,  16,  17,  18,  19,  20],\n       [ 21,  22,  23,  24,  25,  26,  27,  28,  29,  30],\n       [ 31,  32,  33,  34,  35,  36,  37,  38,  39,  40],\n       [ 41,  42,  43,  44,  45,  46,  47,  48,  49,  50],\n       [ 51,  52,  53,  54,  55,  56,  57,  58,  59,  60],\n       [ 61,  62,  63,  64,  65,  66,  67,  68,  69,  70],\n       [ 71,  72,  73,  74,  75,  76,  77,  78,  79,  80],\n       [ 81,  82,  83,  84,  85,  86,  87,  88,  89,  90],\n       [ 91,  92,  93,  94,  95,  96,  97,  98,  99, 100]])"
          },
          "metadata": {}
        }
      ],
      "execution_count": 164
    },
    {
      "cell_type": "code",
      "source": "# for horizontal adding\nnp.hstack((a,b))",
      "metadata": {
        "trusted": true
      },
      "outputs": [
        {
          "execution_count": 166,
          "output_type": "execute_result",
          "data": {
            "text/plain": "array([[  1,   2,   3,   4,   5,   6,   7,   8,   9,  10,   1,   2,   3,\n          4,   5,   6,   7,   8,   9,  10],\n       [ 11,  12,  13,  14,  15,  16,  17,  18,  19,  20,  11,  12,  13,\n         14,  15,  16,  17,  18,  19,  20],\n       [ 21,  22,  23,  24,  25,  26,  27,  28,  29,  30,  21,  22,  23,\n         24,  25,  26,  27,  28,  29,  30],\n       [ 31,  32,  33,  34,  35,  36,  37,  38,  39,  40,  31,  32,  33,\n         34,  35,  36,  37,  38,  39,  40],\n       [ 41,  42,  43,  44,  45,  46,  47,  48,  49,  50,  41,  42,  43,\n         44,  45,  46,  47,  48,  49,  50],\n       [ 51,  52,  53,  54,  55,  56,  57,  58,  59,  60,  51,  52,  53,\n         54,  55,  56,  57,  58,  59,  60],\n       [ 61,  62,  63,  64,  65,  66,  67,  68,  69,  70,  61,  62,  63,\n         64,  65,  66,  67,  68,  69,  70],\n       [ 71,  72,  73,  74,  75,  76,  77,  78,  79,  80,  71,  72,  73,\n         74,  75,  76,  77,  78,  79,  80],\n       [ 81,  82,  83,  84,  85,  86,  87,  88,  89,  90,  81,  82,  83,\n         84,  85,  86,  87,  88,  89,  90],\n       [ 91,  92,  93,  94,  95,  96,  97,  98,  99, 100,  91,  92,  93,\n         94,  95,  96,  97,  98,  99, 100]])"
          },
          "metadata": {}
        }
      ],
      "execution_count": 166
    },
    {
      "cell_type": "code",
      "source": "np.hstack((a,b,a))",
      "metadata": {
        "trusted": true
      },
      "outputs": [
        {
          "execution_count": 167,
          "output_type": "execute_result",
          "data": {
            "text/plain": "array([[  1,   2,   3,   4,   5,   6,   7,   8,   9,  10,   1,   2,   3,\n          4,   5,   6,   7,   8,   9,  10,   1,   2,   3,   4,   5,   6,\n          7,   8,   9,  10],\n       [ 11,  12,  13,  14,  15,  16,  17,  18,  19,  20,  11,  12,  13,\n         14,  15,  16,  17,  18,  19,  20,  11,  12,  13,  14,  15,  16,\n         17,  18,  19,  20],\n       [ 21,  22,  23,  24,  25,  26,  27,  28,  29,  30,  21,  22,  23,\n         24,  25,  26,  27,  28,  29,  30,  21,  22,  23,  24,  25,  26,\n         27,  28,  29,  30],\n       [ 31,  32,  33,  34,  35,  36,  37,  38,  39,  40,  31,  32,  33,\n         34,  35,  36,  37,  38,  39,  40,  31,  32,  33,  34,  35,  36,\n         37,  38,  39,  40],\n       [ 41,  42,  43,  44,  45,  46,  47,  48,  49,  50,  41,  42,  43,\n         44,  45,  46,  47,  48,  49,  50,  41,  42,  43,  44,  45,  46,\n         47,  48,  49,  50],\n       [ 51,  52,  53,  54,  55,  56,  57,  58,  59,  60,  51,  52,  53,\n         54,  55,  56,  57,  58,  59,  60,  51,  52,  53,  54,  55,  56,\n         57,  58,  59,  60],\n       [ 61,  62,  63,  64,  65,  66,  67,  68,  69,  70,  61,  62,  63,\n         64,  65,  66,  67,  68,  69,  70,  61,  62,  63,  64,  65,  66,\n         67,  68,  69,  70],\n       [ 71,  72,  73,  74,  75,  76,  77,  78,  79,  80,  71,  72,  73,\n         74,  75,  76,  77,  78,  79,  80,  71,  72,  73,  74,  75,  76,\n         77,  78,  79,  80],\n       [ 81,  82,  83,  84,  85,  86,  87,  88,  89,  90,  81,  82,  83,\n         84,  85,  86,  87,  88,  89,  90,  81,  82,  83,  84,  85,  86,\n         87,  88,  89,  90],\n       [ 91,  92,  93,  94,  95,  96,  97,  98,  99, 100,  91,  92,  93,\n         94,  95,  96,  97,  98,  99, 100,  91,  92,  93,  94,  95,  96,\n         97,  98,  99, 100]])"
          },
          "metadata": {}
        }
      ],
      "execution_count": 167
    },
    {
      "cell_type": "code",
      "source": "np.split(a,2)",
      "metadata": {
        "trusted": true
      },
      "outputs": [
        {
          "execution_count": 168,
          "output_type": "execute_result",
          "data": {
            "text/plain": "[array([[ 1,  2,  3,  4,  5,  6,  7,  8,  9, 10],\n        [11, 12, 13, 14, 15, 16, 17, 18, 19, 20],\n        [21, 22, 23, 24, 25, 26, 27, 28, 29, 30],\n        [31, 32, 33, 34, 35, 36, 37, 38, 39, 40],\n        [41, 42, 43, 44, 45, 46, 47, 48, 49, 50]]),\n array([[ 51,  52,  53,  54,  55,  56,  57,  58,  59,  60],\n        [ 61,  62,  63,  64,  65,  66,  67,  68,  69,  70],\n        [ 71,  72,  73,  74,  75,  76,  77,  78,  79,  80],\n        [ 81,  82,  83,  84,  85,  86,  87,  88,  89,  90],\n        [ 91,  92,  93,  94,  95,  96,  97,  98,  99, 100]])]"
          },
          "metadata": {}
        }
      ],
      "execution_count": 168
    },
    {
      "cell_type": "code",
      "source": "np.split(a,3)\n",
      "metadata": {
        "trusted": true
      },
      "outputs": [
        {
          "ename": "<class 'ValueError'>",
          "evalue": "array split does not result in an equal division",
          "traceback": [
            "\u001b[0;31m---------------------------------------------------------------------------\u001b[0m",
            "\u001b[0;31mValueError\u001b[0m                                Traceback (most recent call last)",
            "Cell \u001b[0;32mIn[169], line 1\u001b[0m\n\u001b[0;32m----> 1\u001b[0m \u001b[43mnp\u001b[49m\u001b[38;5;241;43m.\u001b[39;49m\u001b[43msplit\u001b[49m\u001b[43m(\u001b[49m\u001b[43ma\u001b[49m\u001b[43m,\u001b[49m\u001b[38;5;241;43m3\u001b[39;49m\u001b[43m)\u001b[49m\n",
            "File \u001b[0;32m/lib/python3.11/site-packages/numpy/lib/shape_base.py:864\u001b[0m, in \u001b[0;36msplit\u001b[0;34m(ary, indices_or_sections, axis)\u001b[0m\n\u001b[1;32m    862\u001b[0m     N \u001b[38;5;241m=\u001b[39m ary\u001b[38;5;241m.\u001b[39mshape[axis]\n\u001b[1;32m    863\u001b[0m     \u001b[38;5;28;01mif\u001b[39;00m N \u001b[38;5;241m%\u001b[39m sections:\n\u001b[0;32m--> 864\u001b[0m         \u001b[38;5;28;01mraise\u001b[39;00m \u001b[38;5;167;01mValueError\u001b[39;00m(\n\u001b[1;32m    865\u001b[0m             \u001b[38;5;124m'\u001b[39m\u001b[38;5;124marray split does not result in an equal division\u001b[39m\u001b[38;5;124m'\u001b[39m) \u001b[38;5;28;01mfrom\u001b[39;00m \u001b[38;5;28;01mNone\u001b[39;00m\n\u001b[1;32m    866\u001b[0m \u001b[38;5;28;01mreturn\u001b[39;00m array_split(ary, indices_or_sections, axis)\n",
            "\u001b[0;31mValueError\u001b[0m: array split does not result in an equal division"
          ],
          "output_type": "error"
        }
      ],
      "execution_count": 169
    },
    {
      "cell_type": "code",
      "source": "np.split(a,2,axis=1)\n",
      "metadata": {
        "trusted": true
      },
      "outputs": [
        {
          "execution_count": 170,
          "output_type": "execute_result",
          "data": {
            "text/plain": "[array([[ 1,  2,  3,  4,  5],\n        [11, 12, 13, 14, 15],\n        [21, 22, 23, 24, 25],\n        [31, 32, 33, 34, 35],\n        [41, 42, 43, 44, 45],\n        [51, 52, 53, 54, 55],\n        [61, 62, 63, 64, 65],\n        [71, 72, 73, 74, 75],\n        [81, 82, 83, 84, 85],\n        [91, 92, 93, 94, 95]]),\n array([[  6,   7,   8,   9,  10],\n        [ 16,  17,  18,  19,  20],\n        [ 26,  27,  28,  29,  30],\n        [ 36,  37,  38,  39,  40],\n        [ 46,  47,  48,  49,  50],\n        [ 56,  57,  58,  59,  60],\n        [ 66,  67,  68,  69,  70],\n        [ 76,  77,  78,  79,  80],\n        [ 86,  87,  88,  89,  90],\n        [ 96,  97,  98,  99, 100]])]"
          },
          "metadata": {}
        }
      ],
      "execution_count": 170
    },
    {
      "cell_type": "code",
      "source": "#given index inlist\nnp.split(a,[3,6])",
      "metadata": {
        "trusted": true,
        "scrolled": true
      },
      "outputs": [
        {
          "execution_count": 173,
          "output_type": "execute_result",
          "data": {
            "text/plain": "[array([[ 1,  2,  3,  4,  5,  6,  7,  8,  9, 10],\n        [11, 12, 13, 14, 15, 16, 17, 18, 19, 20],\n        [21, 22, 23, 24, 25, 26, 27, 28, 29, 30]]),\n array([[31, 32, 33, 34, 35, 36, 37, 38, 39, 40],\n        [41, 42, 43, 44, 45, 46, 47, 48, 49, 50],\n        [51, 52, 53, 54, 55, 56, 57, 58, 59, 60]]),\n array([[ 61,  62,  63,  64,  65,  66,  67,  68,  69,  70],\n        [ 71,  72,  73,  74,  75,  76,  77,  78,  79,  80],\n        [ 81,  82,  83,  84,  85,  86,  87,  88,  89,  90],\n        [ 91,  92,  93,  94,  95,  96,  97,  98,  99, 100]])]"
          },
          "metadata": {}
        }
      ],
      "execution_count": 173
    },
    {
      "cell_type": "markdown",
      "source": "# trigononometric function",
      "metadata": {}
    },
    {
      "cell_type": "code",
      "source": "np.sin(90)",
      "metadata": {
        "trusted": true
      },
      "outputs": [
        {
          "execution_count": 174,
          "output_type": "execute_result",
          "data": {
            "text/plain": "0.8939966636005579"
          },
          "metadata": {}
        }
      ],
      "execution_count": 174
    },
    {
      "cell_type": "code",
      "source": "np.pi",
      "metadata": {
        "trusted": true
      },
      "outputs": [
        {
          "execution_count": 177,
          "output_type": "execute_result",
          "data": {
            "text/plain": "3.141592653589793"
          },
          "metadata": {}
        }
      ],
      "execution_count": 177
    },
    {
      "cell_type": "code",
      "source": "angle=np.arange(0,2*np.pi,0.1)\nangle",
      "metadata": {
        "trusted": true
      },
      "outputs": [
        {
          "execution_count": 186,
          "output_type": "execute_result",
          "data": {
            "text/plain": "array([0. , 0.1, 0.2, 0.3, 0.4, 0.5, 0.6, 0.7, 0.8, 0.9, 1. , 1.1, 1.2,\n       1.3, 1.4, 1.5, 1.6, 1.7, 1.8, 1.9, 2. , 2.1, 2.2, 2.3, 2.4, 2.5,\n       2.6, 2.7, 2.8, 2.9, 3. , 3.1, 3.2, 3.3, 3.4, 3.5, 3.6, 3.7, 3.8,\n       3.9, 4. , 4.1, 4.2, 4.3, 4.4, 4.5, 4.6, 4.7, 4.8, 4.9, 5. , 5.1,\n       5.2, 5.3, 5.4, 5.5, 5.6, 5.7, 5.8, 5.9, 6. , 6.1, 6.2])"
          },
          "metadata": {}
        }
      ],
      "execution_count": 186
    },
    {
      "cell_type": "code",
      "source": "sinvalues=np.sin(angle)\nsinvalues",
      "metadata": {
        "trusted": true
      },
      "outputs": [
        {
          "execution_count": 196,
          "output_type": "execute_result",
          "data": {
            "text/plain": "array([ 0.        ,  0.09983342,  0.19866933,  0.29552021,  0.38941834,\n        0.47942554,  0.56464247,  0.64421769,  0.71735609,  0.78332691,\n        0.84147098,  0.89120736,  0.93203909,  0.96355819,  0.98544973,\n        0.99749499,  0.9995736 ,  0.99166481,  0.97384763,  0.94630009,\n        0.90929743,  0.86320937,  0.8084964 ,  0.74570521,  0.67546318,\n        0.59847214,  0.51550137,  0.42737988,  0.33498815,  0.23924933,\n        0.14112001,  0.04158066, -0.05837414, -0.15774569, -0.2555411 ,\n       -0.35078323, -0.44252044, -0.52983614, -0.61185789, -0.68776616,\n       -0.7568025 , -0.81827711, -0.87157577, -0.91616594, -0.95160207,\n       -0.97753012, -0.993691  , -0.99992326, -0.99616461, -0.98245261,\n       -0.95892427, -0.92581468, -0.88345466, -0.83226744, -0.77276449,\n       -0.70554033, -0.63126664, -0.55068554, -0.46460218, -0.37387666,\n       -0.2794155 , -0.1821625 , -0.0830894 ])"
          },
          "metadata": {}
        }
      ],
      "execution_count": 196
    },
    {
      "cell_type": "code",
      "source": "plt.plot(angle,sinvalues)",
      "metadata": {
        "trusted": true
      },
      "outputs": [
        {
          "execution_count": 197,
          "output_type": "execute_result",
          "data": {
            "text/plain": "[<matplotlib.lines.Line2D at 0x4c115a8>]"
          },
          "metadata": {}
        },
        {
          "output_type": "display_data",
          "data": {
            "text/plain": "<Figure size 640x480 with 1 Axes>",
            "image/png": "[encoded data removed]"
          },
          "metadata": {}
        }
      ],
      "execution_count": 197
    },
    {
      "cell_type": "markdown",
      "source": "# random sampling",
      "metadata": {}
    },
    {
      "cell_type": "code",
      "source": "np.random.random(2)",
      "metadata": {
        "trusted": true
      },
      "outputs": [
        {
          "execution_count": 203,
          "output_type": "execute_result",
          "data": {
            "text/plain": "array([0.17175886, 0.68158154])"
          },
          "metadata": {}
        }
      ],
      "execution_count": 203
    },
    {
      "cell_type": "code",
      "source": "np.random.random()\n",
      "metadata": {
        "trusted": true
      },
      "outputs": [
        {
          "execution_count": 204,
          "output_type": "execute_result",
          "data": {
            "text/plain": "0.018191296001028756"
          },
          "metadata": {}
        }
      ],
      "execution_count": 204
    },
    {
      "cell_type": "code",
      "source": "np.random.randint(1,1000)\n",
      "metadata": {
        "trusted": true
      },
      "outputs": [
        {
          "execution_count": 212,
          "output_type": "execute_result",
          "data": {
            "text/plain": "72"
          },
          "metadata": {}
        }
      ],
      "execution_count": 212
    },
    {
      "cell_type": "code",
      "source": "np.random.randint(1,1000,(2,2))\n",
      "metadata": {
        "trusted": true
      },
      "outputs": [
        {
          "execution_count": 213,
          "output_type": "execute_result",
          "data": {
            "text/plain": "array([[741, 626],\n       [203, 468]])"
          },
          "metadata": {}
        }
      ],
      "execution_count": 213
    },
    {
      "cell_type": "code",
      "source": "np.random.randint(1,1000,(2,2))",
      "metadata": {
        "trusted": true
      },
      "outputs": [
        {
          "execution_count": 214,
          "output_type": "execute_result",
          "data": {
            "text/plain": "array([[458, 372],\n       [437, 782]])"
          },
          "metadata": {}
        }
      ],
      "execution_count": 214
    },
    {
      "cell_type": "code",
      "source": "# to save the randomvalues we use seed values",
      "metadata": {
        "trusted": true
      },
      "outputs": [],
      "execution_count": 215
    },
    {
      "cell_type": "code",
      "source": "a=np.random.seed(10)\nnp.random.randint(1,1000,(2,2))\n",
      "metadata": {
        "trusted": true
      },
      "outputs": [
        {
          "execution_count": 222,
          "output_type": "execute_result",
          "data": {
            "text/plain": "array([[266, 126],\n       [997, 528]])"
          },
          "metadata": {}
        }
      ],
      "execution_count": 222
    },
    {
      "cell_type": "code",
      "source": "a=np.random.seed(10)\nnp.random.randint(1,1000,(2,2))\n",
      "metadata": {
        "trusted": true
      },
      "outputs": [
        {
          "execution_count": 224,
          "output_type": "execute_result",
          "data": {
            "text/plain": "array([[266, 126],\n       [997, 528]])"
          },
          "metadata": {}
        }
      ],
      "execution_count": 224
    },
    {
      "cell_type": "code",
      "source": "np.random.randn(3)\n# returnsd alsonegative number",
      "metadata": {
        "trusted": true
      },
      "outputs": [
        {
          "execution_count": 228,
          "output_type": "execute_result",
          "data": {
            "text/plain": "array([-0.00838385,  0.62133597, -0.72008556])"
          },
          "metadata": {}
        }
      ],
      "execution_count": 228
    },
    {
      "cell_type": "code",
      "source": "np.random.rand(5)\n",
      "metadata": {
        "trusted": true
      },
      "outputs": [
        {
          "execution_count": 229,
          "output_type": "execute_result",
          "data": {
            "text/plain": "array([0.16911084, 0.08833981, 0.68535982, 0.95339335, 0.00394827])"
          },
          "metadata": {}
        }
      ],
      "execution_count": 229
    },
    {
      "cell_type": "code",
      "source": "x=[1,2,3,4]",
      "metadata": {
        "trusted": true
      },
      "outputs": [],
      "execution_count": 230
    },
    {
      "cell_type": "code",
      "source": "np.random.choice(x)",
      "metadata": {
        "trusted": true
      },
      "outputs": [
        {
          "execution_count": 237,
          "output_type": "execute_result",
          "data": {
            "text/plain": "2"
          },
          "metadata": {}
        }
      ],
      "execution_count": 237
    },
    {
      "cell_type": "code",
      "source": "np.random.permutation(x)",
      "metadata": {
        "trusted": true
      },
      "outputs": [
        {
          "execution_count": 260,
          "output_type": "execute_result",
          "data": {
            "text/plain": "array([4, 2, 1, 3])"
          },
          "metadata": {}
        }
      ],
      "execution_count": 269
    },
    {
      "cell_type": "code",
      "source": "y=np.random.permutation(x)\nprint(y)\n",
      "metadata": {
        "trusted": true
      },
      "outputs": [
        {
          "name": "stdout",
          "text": "[3 4 1 2]\n",
          "output_type": "stream"
        }
      ],
      "execution_count": 272
    },
    {
      "cell_type": "code",
      "source": "a=\"sayandip\"\nb=\"bidisha\"\nnp.char.add(a,b)",
      "metadata": {
        "trusted": true
      },
      "outputs": [
        {
          "execution_count": 264,
          "output_type": "execute_result",
          "data": {
            "text/plain": "array('sayandipbidisha', dtype='<U15')"
          },
          "metadata": {}
        }
      ],
      "execution_count": 274
    },
    {
      "cell_type": "code",
      "source": "np.char.lower(a)",
      "metadata": {
        "trusted": true
      },
      "outputs": [
        {
          "execution_count": 265,
          "output_type": "execute_result",
          "data": {
            "text/plain": "array('sayandip', dtype='<U8')"
          },
          "metadata": {}
        }
      ],
      "execution_count": 275
    },
    {
      "cell_type": "code",
      "source": "np.char.upper(a)",
      "metadata": {
        "trusted": true
      },
      "outputs": [
        {
          "execution_count": 266,
          "output_type": "execute_result",
          "data": {
            "text/plain": "array('SAYANDIP', dtype='<U8')"
          },
          "metadata": {}
        }
      ],
      "execution_count": 276
    },
    {
      "cell_type": "code",
      "source": "np.char.lower(a)\n",
      "metadata": {
        "trusted": true
      },
      "outputs": [
        {
          "execution_count": 267,
          "output_type": "execute_result",
          "data": {
            "text/plain": "array('sayandip', dtype='<U8')"
          },
          "metadata": {}
        }
      ],
      "execution_count": 277
    },
    {
      "cell_type": "code",
      "source": "np.char.center(a,100,fillchar=\"*\")",
      "metadata": {
        "trusted": true
      },
      "outputs": [
        {
          "execution_count": 269,
          "output_type": "execute_result",
          "data": {
            "text/plain": "array('**********************************************sayandip**********************************************',\n      dtype='<U100')"
          },
          "metadata": {}
        }
      ],
      "execution_count": 279
    },
    {
      "cell_type": "code",
      "source": "a=\"sayanis a good boy\"\nnp.char.split(a)",
      "metadata": {
        "trusted": true
      },
      "outputs": [
        {
          "execution_count": 270,
          "output_type": "execute_result",
          "data": {
            "text/plain": "array(list(['sayanis', 'a', 'good', 'boy']), dtype=object)"
          },
          "metadata": {}
        }
      ],
      "execution_count": 280
    },
    {
      "cell_type": "code",
      "source": "",
      "metadata": {
        "trusted": true
      },
      "outputs": [],
      "execution_count": null
    }
  ]
}